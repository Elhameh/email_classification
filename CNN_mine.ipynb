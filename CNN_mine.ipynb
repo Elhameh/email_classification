{
 "cells": [
  {
   "cell_type": "code",
   "execution_count": 1,
   "metadata": {},
   "outputs": [
    {
     "name": "stderr",
     "output_type": "stream",
     "text": [
      "Using Theano backend.\n",
      "WARNING (theano.configdefaults): g++ not available, if using conda: `conda install m2w64-toolchain`\n",
      "c:\\users\\elham\\appdata\\local\\programs\\python\\python37\\lib\\site-packages\\theano\\configdefaults.py:560: UserWarning: DeprecationWarning: there is no c++ compiler.This is deprecated and with Theano 0.11 a c++ compiler will be mandatory\n",
      "  warnings.warn(\"DeprecationWarning: there is no c++ compiler.\"\n",
      "WARNING (theano.configdefaults): g++ not detected ! Theano will be unable to execute optimized C-implementations (for both CPU and GPU) and will default to Python implementations. Performance will be severely degraded. To remove this warning, set Theano flags cxx to an empty string.\n",
      "WARNING (theano.tensor.blas): Using NumPy C-API based implementation for BLAS functions.\n"
     ]
    }
   ],
   "source": [
    "import numpy as np\n",
    "import pandas as pd\n",
    "import pickle\n",
    "from collections import defaultdict\n",
    "import re\n",
    "from bs4 import BeautifulSoup\n",
    "import sys\n",
    "import string\n",
    "import os\n",
    "import nltk\n",
    "from nltk.stem import PorterStemmer\n",
    "from nltk.stem import LancasterStemmer\n",
    "os.environ['KERAS_BACKEND']='theano' # Why theano why not\n",
    "os.environ['OMP_NUM_THREADS']='10' # Why theano why not\n",
    "\n",
    "from keras.preprocessing.text import Tokenizer\n",
    "from keras.preprocessing.sequence import pad_sequences\n",
    "from keras.utils.np_utils import to_categorical\n",
    "from keras.layers import Embedding\n",
    "from keras.layers import Dense, Input, Flatten\n",
    "from keras.layers import Conv1D, MaxPooling1D, Embedding, Dropout, LSTM, GRU, Bidirectional\n",
    "from keras.models import Model\n",
    "from keras.callbacks import ModelCheckpoint\n",
    "from keras.regularizers import l2\n",
    "import matplotlib.pyplot as plt\n",
    "import sys\n",
    "import warnings\n",
    "\n",
    "if not sys.warnoptions:\n",
    "    warnings.simplefilter(\"ignore\")\n",
    "plt.switch_backend('agg')\n",
    "%matplotlib inline"
   ]
  },
  {
   "cell_type": "code",
   "execution_count": 2,
   "metadata": {},
   "outputs": [
    {
     "name": "stdout",
     "output_type": "stream",
     "text": [
      "env: OMP_NUM_THREADS=10\n"
     ]
    }
   ],
   "source": [
    "%env OMP_NUM_THREADS=10"
   ]
  },
  {
   "cell_type": "code",
   "execution_count": 3,
   "metadata": {},
   "outputs": [
    {
     "name": "stdout",
     "output_type": "stream",
     "text": [
      "Shape of dataset  (5728, 2)\n",
      "Index(['text', 'spam'], dtype='object')\n"
     ]
    }
   ],
   "source": [
    "df = pd.read_csv(\"emails.csv\")\n",
    "df = df.dropna()\n",
    "df = df.reset_index(drop=True)\n",
    "print('Shape of dataset ',df.shape)\n",
    "print(df.columns)"
   ]
  },
  {
   "cell_type": "code",
   "execution_count": 4,
   "metadata": {},
   "outputs": [
    {
     "data": {
      "text/plain": [
       "1368"
      ]
     },
     "execution_count": 4,
     "metadata": {},
     "output_type": "execute_result"
    }
   ],
   "source": [
    "np.sum(df.spam)"
   ]
  },
  {
   "cell_type": "code",
   "execution_count": 5,
   "metadata": {},
   "outputs": [],
   "source": [
    "np.random.seed(4)\n",
    "indices = np.arange(df['text'].shape[0])\n",
    "np.random.shuffle(indices)\n",
    "bodys = df.text[indices]\n",
    "ids = df.spam[indices]"
   ]
  },
  {
   "cell_type": "code",
   "execution_count": 6,
   "metadata": {},
   "outputs": [],
   "source": [
    "MAX_SEQUENCE_LENGTH = 1000\n",
    "MAX_NB_WORDS = 20000\n",
    "EMBEDDING_DIM = 100\n",
    "VALIDATION_SPLIT = 0.2\n",
    "sample_length = 100;"
   ]
  },
  {
   "cell_type": "code",
   "execution_count": 7,
   "metadata": {},
   "outputs": [],
   "source": [
    "def clean_str(s):\n",
    "    \n",
    "    porter = PorterStemmer()\n",
    "    s = s.translate(str.maketrans('', '', string.punctuation))\n",
    "    s_new = ''\n",
    "    for word in s.split(' '):\n",
    "        s_new = s_new + ' ' + porter.stem(word)\n",
    "    return s_new.strip().lower()"
   ]
  },
  {
   "cell_type": "code",
   "execution_count": 8,
   "metadata": {},
   "outputs": [],
   "source": [
    "texts = []\n",
    "labels = []\n",
    "\n",
    "#df.Phrase.shape[0]\n",
    "for idx in range(sample_length):\n",
    "    text = bodys[idx]   #.split(': ',1)[1]\n",
    "    text = clean_str(text)\n",
    "    texts.append(text)\n",
    "\n",
    "for label in ids[:sample_length]:\n",
    "    labels.append(label)"
   ]
  },
  {
   "cell_type": "code",
   "execution_count": 9,
   "metadata": {},
   "outputs": [
    {
     "name": "stdout",
     "output_type": "stream",
     "text": [
      "Number of Unique Tokens 3419\n"
     ]
    }
   ],
   "source": [
    "tokenizer = Tokenizer(num_words=MAX_NB_WORDS)  # intialize the tokenizer in Keras\n",
    "tokenizer.fit_on_texts(texts)    # make a dictinary of all the unique words in all the input texts and \n",
    "# order them based on their frequency\n",
    "sequences = tokenizer.texts_to_sequences(texts)  # conver the sequence of the words to a sequence of indexes \n",
    "# according to the location of that word in the created dict\n",
    "\n",
    "word_index = tokenizer.word_index   \n",
    "ls = list(word_index.items())\n",
    "print('Number of Unique Tokens',len(word_index))"
   ]
  },
  {
   "cell_type": "code",
   "execution_count": 10,
   "metadata": {},
   "outputs": [
    {
     "name": "stdout",
     "output_type": "stream",
     "text": [
      "Shape of Data Tensor: (100, 1000)\n",
      "Shape of Label Tensor: (100, 2)\n"
     ]
    }
   ],
   "source": [
    "data = pad_sequences(sequences, maxlen=MAX_SEQUENCE_LENGTH)\n",
    "\n",
    "labels_bin = to_categorical(np.asarray(labels))\n",
    "print('Shape of Data Tensor:', data.shape)\n",
    "print('Shape of Label Tensor:', labels_bin.shape)\n",
    "\n",
    "np.random.seed(42)\n",
    "indices = np.arange(data.shape[0])\n",
    "np.random.shuffle(indices)\n",
    "data = data[indices]\n",
    "labels_bin = labels_bin[indices]\n",
    "nb_validation_samples = int(VALIDATION_SPLIT * data.shape[0])\n",
    "\n",
    "x_train = data[:-nb_validation_samples]\n",
    "y_train = labels_bin[:-nb_validation_samples]\n",
    "x_val = data[-nb_validation_samples:]\n",
    "y_val = labels_bin[-nb_validation_samples:]"
   ]
  },
  {
   "cell_type": "code",
   "execution_count": 11,
   "metadata": {},
   "outputs": [
    {
     "name": "stdout",
     "output_type": "stream",
     "text": [
      "Total 400000 word vectors in Glove 6B 100d.\n"
     ]
    }
   ],
   "source": [
    "embeddings_index = {}\n",
    "f = open('glove.6B.100d.txt',encoding='utf8')\n",
    "for line in f:\n",
    "    values = line.split()\n",
    "    word = values[0]\n",
    "    coefs = np.asarray(values[1:], dtype='float32')\n",
    "    embeddings_index[word] = coefs\n",
    "f.close()\n",
    "\n",
    "print('Total %s word vectors in Glove 6B 100d.' % len(embeddings_index))\n"
   ]
  },
  {
   "cell_type": "code",
   "execution_count": 12,
   "metadata": {},
   "outputs": [
    {
     "name": "stdout",
     "output_type": "stream",
     "text": [
      "i= 100\n",
      "i= 200\n",
      "i= 300\n",
      "i= 400\n",
      "i= 500\n",
      "i= 600\n",
      "i= 700\n",
      "i= 800\n",
      "i= 900\n",
      "i= 1000\n",
      "i= 1100\n",
      "i= 1200\n",
      "i= 1300\n",
      "i= 1400\n",
      "i= 1500\n",
      "i= 1600\n",
      "i= 1700\n",
      "i= 1800\n",
      "i= 1900\n",
      "i= 2000\n",
      "i= 2100\n",
      "i= 2200\n",
      "i= 2300\n",
      "i= 2400\n",
      "i= 2500\n",
      "i= 2600\n",
      "i= 2700\n",
      "i= 2800\n",
      "i= 2900\n",
      "i= 3000\n",
      "i= 3100\n",
      "i= 3200\n",
      "i= 3300\n",
      "i= 3400\n"
     ]
    }
   ],
   "source": [
    "embedding_matrix = np.random.random((len(word_index) + 1, EMBEDDING_DIM))\n",
    "for word, i in word_index.items():\n",
    "    if i % 100 == 0:\n",
    "        print('i=',i)\n",
    "    embedding_vector = embeddings_index.get(word)\n",
    "    if embedding_vector is not None:\n",
    "        # words not found in embedding index will be all-zeros.\n",
    "        embedding_matrix[i] = embedding_vector\n",
    "\n",
    "embedding_layer = Embedding(len(word_index) + 1,\n",
    "                            EMBEDDING_DIM,weights=[embedding_matrix],\n",
    "                            input_length=MAX_SEQUENCE_LENGTH,trainable=False)"
   ]
  },
  {
   "cell_type": "code",
   "execution_count": 15,
   "metadata": {},
   "outputs": [
    {
     "name": "stdout",
     "output_type": "stream",
     "text": [
      "embeding\n",
      "layer1\n",
      "layer2\n",
      "layer3\n",
      "layer4\n",
      "Simplified convolutional neural network\n",
      "_________________________________________________________________\n",
      "Layer (type)                 Output Shape              Param #   \n",
      "=================================================================\n",
      "input_2 (InputLayer)         (None, 1000)              0         \n",
      "_________________________________________________________________\n",
      "embedding_1 (Embedding)      (None, 1000, 100)         342000    \n",
      "_________________________________________________________________\n",
      "conv1d_4 (Conv1D)            (None, 996, 128)          64128     \n",
      "_________________________________________________________________\n",
      "max_pooling1d_4 (MaxPooling1 (None, 199, 128)          0         \n",
      "_________________________________________________________________\n",
      "conv1d_5 (Conv1D)            (None, 195, 128)          82048     \n",
      "_________________________________________________________________\n",
      "max_pooling1d_5 (MaxPooling1 (None, 39, 128)           0         \n",
      "_________________________________________________________________\n",
      "conv1d_6 (Conv1D)            (None, 35, 128)           82048     \n",
      "_________________________________________________________________\n",
      "max_pooling1d_6 (MaxPooling1 (None, 1, 128)            0         \n",
      "_________________________________________________________________\n",
      "flatten_2 (Flatten)          (None, 128)               0         \n",
      "_________________________________________________________________\n",
      "dense_3 (Dense)              (None, 128)               16512     \n",
      "_________________________________________________________________\n",
      "dense_4 (Dense)              (None, 2)                 258       \n",
      "=================================================================\n",
      "Total params: 586,994\n",
      "Trainable params: 244,994\n",
      "Non-trainable params: 342,000\n",
      "_________________________________________________________________\n"
     ]
    }
   ],
   "source": [
    "filter_size = 5\n",
    "lambd = 0.01\n",
    "sequence_input = Input(shape=(MAX_SEQUENCE_LENGTH,), dtype='int32')\n",
    "embedded_sequences = embedding_layer(sequence_input)\n",
    "print('embeding')\n",
    "l_cov1= Conv1D(128, filter_size, activation='relu', activity_regularizer=l2(lambd))(embedded_sequences)\n",
    "l_pool1 = MaxPooling1D(filter_size)(l_cov1)\n",
    "print('layer1')\n",
    "\n",
    "l_cov2 = Conv1D(128, filter_size, activation='relu', activity_regularizer=l2(lambd))(l_pool1)\n",
    "l_pool2 = MaxPooling1D(filter_size)(l_cov2)\n",
    "print('layer2')\n",
    "\n",
    "l_cov3 = Conv1D(128, filter_size, activation='relu', activity_regularizer=l2(lambd))(l_pool2)\n",
    "l_pool3 = MaxPooling1D(7*filter_size)(l_cov3)  # global max pooling\n",
    "print('layer3')\n",
    "\n",
    "#l_cov4 = Conv1D(128, filter_size, activation='relu')(l_pool3)\n",
    "#l_pool4 = MaxPooling1D(2*filter_size)(l_cov4)  # global max pooling\n",
    "#print('layer4')\n",
    "\n",
    "l_flat = Flatten()(l_pool3)\n",
    "l_dense = Dense(128, activation='relu', activity_regularizer=l2(lambd))(l_flat)\n",
    "preds = Dense(labels_bin.shape[1], activation='softmax')(l_dense)\n",
    "print('layer4')\n",
    "model = Model(sequence_input, preds)\n",
    "model.compile(loss='categorical_crossentropy',\n",
    "              optimizer='rmsprop',\n",
    "              metrics=['acc'])\n",
    "\n",
    "print(\"Simplified convolutional neural network\")\n",
    "model.summary()\n",
    "cp=ModelCheckpoint('model_cnn.hdf5',monitor='val_acc',verbose=1,save_best_only=True)"
   ]
  },
  {
   "cell_type": "code",
   "execution_count": 16,
   "metadata": {},
   "outputs": [
    {
     "name": "stdout",
     "output_type": "stream",
     "text": [
      "Train on 80 samples, validate on 20 samples\n",
      "Epoch 1/15\n",
      "80/80 [==============================] - 1177s 15s/step - loss: 29.9764 - acc: 0.7500 - val_loss: 2.5863 - val_acc: 0.8500\n",
      "\n",
      "Epoch 00001: val_acc improved from -inf to 0.85000, saving model to model_cnn.hdf5\n",
      "Epoch 2/15\n",
      "80/80 [==============================] - 1177s 15s/step - loss: 1.7019 - acc: 0.7750 - val_loss: 0.8213 - val_acc: 0.8500\n",
      "\n",
      "Epoch 00002: val_acc did not improve from 0.85000\n",
      "Epoch 3/15\n",
      "80/80 [==============================] - 1177s 15s/step - loss: 0.7721 - acc: 0.7750 - val_loss: 0.6584 - val_acc: 0.8500\n",
      "\n",
      "Epoch 00003: val_acc did not improve from 0.85000\n",
      "Epoch 4/15\n",
      "80/80 [==============================] - 1178s 15s/step - loss: 0.6335 - acc: 0.7750 - val_loss: 0.5865 - val_acc: 0.8500\n",
      "\n",
      "Epoch 00004: val_acc did not improve from 0.85000\n",
      "Epoch 5/15\n",
      "80/80 [==============================] - 1177s 15s/step - loss: 0.5432 - acc: 0.7750 - val_loss: 0.6082 - val_acc: 0.8500\n",
      "\n",
      "Epoch 00005: val_acc did not improve from 0.85000\n",
      "Epoch 6/15\n",
      "80/80 [==============================] - 1177s 15s/step - loss: 0.4898 - acc: 0.7750 - val_loss: 0.5834 - val_acc: 0.8500\n",
      "\n",
      "Epoch 00006: val_acc did not improve from 0.85000\n",
      "Epoch 7/15\n",
      "80/80 [==============================] - 1178s 15s/step - loss: 0.4334 - acc: 0.7750 - val_loss: 0.6262 - val_acc: 0.8500\n",
      "\n",
      "Epoch 00007: val_acc did not improve from 0.85000\n",
      "Epoch 8/15\n",
      "80/80 [==============================] - 1190s 15s/step - loss: 0.3920 - acc: 0.7750 - val_loss: 0.6497 - val_acc: 0.6500\n",
      "\n",
      "Epoch 00008: val_acc did not improve from 0.85000\n",
      "Epoch 9/15\n",
      "80/80 [==============================] - 1177s 15s/step - loss: 0.3705 - acc: 0.8500 - val_loss: 0.7349 - val_acc: 0.5000\n",
      "\n",
      "Epoch 00009: val_acc did not improve from 0.85000\n",
      "Epoch 10/15\n",
      "80/80 [==============================] - 1177s 15s/step - loss: 0.3324 - acc: 0.9000 - val_loss: 0.7011 - val_acc: 0.4000\n",
      "\n",
      "Epoch 00010: val_acc did not improve from 0.85000\n",
      "Epoch 11/15\n",
      "80/80 [==============================] - 1178s 15s/step - loss: 0.2935 - acc: 0.9250 - val_loss: 0.8260 - val_acc: 0.4000\n",
      "\n",
      "Epoch 00011: val_acc did not improve from 0.85000\n",
      "Epoch 12/15\n",
      "80/80 [==============================] - 1177s 15s/step - loss: 0.3195 - acc: 0.9000 - val_loss: 0.8794 - val_acc: 0.4500\n",
      "\n",
      "Epoch 00012: val_acc did not improve from 0.85000\n",
      "Epoch 13/15\n",
      "80/80 [==============================] - 1189s 15s/step - loss: 0.2769 - acc: 0.9500 - val_loss: 0.9224 - val_acc: 0.3500\n",
      "\n",
      "Epoch 00013: val_acc did not improve from 0.85000\n",
      "Epoch 14/15\n",
      "80/80 [==============================] - 1179s 15s/step - loss: 0.2492 - acc: 0.9375 - val_loss: 0.9726 - val_acc: 0.3500\n",
      "\n",
      "Epoch 00014: val_acc did not improve from 0.85000\n",
      "Epoch 15/15\n",
      "80/80 [==============================] - 1182s 15s/step - loss: 0.2782 - acc: 0.9125 - val_loss: 0.9524 - val_acc: 0.4500\n",
      "\n",
      "Epoch 00015: val_acc did not improve from 0.85000\n"
     ]
    }
   ],
   "source": [
    "history=model.fit(x_train, y_train, validation_data=(x_val, y_val),epochs=15, batch_size=2,callbacks=[cp])"
   ]
  },
  {
   "cell_type": "code",
   "execution_count": 17,
   "metadata": {},
   "outputs": [
    {
     "data": {
      "image/png": "[encoded data removed]",
      "text/plain": [
       "<Figure size 432x288 with 1 Axes>"
      ]
     },
     "metadata": {
      "needs_background": "light"
     },
     "output_type": "display_data"
    }
   ],
   "source": [
    "fig1 = plt.figure()\n",
    "plt.plot(history.history['loss'],'r',linewidth=3.0)\n",
    "plt.plot(history.history['val_loss'],'b',linewidth=3.0)\n",
    "plt.legend(['Training loss', 'Validation Loss'],fontsize=18)\n",
    "plt.xlabel('Epochs ',fontsize=16)\n",
    "plt.ylabel('Loss',fontsize=16)\n",
    "plt.title('Loss Curves :CNN',fontsize=16)\n",
    "fig1.savefig('loss_cnn.png')\n",
    "plt.show()"
   ]
  },
  {
   "cell_type": "code",
   "execution_count": 18,
   "metadata": {},
   "outputs": [
    {
     "data": {
      "image/png": "[encoded data removed]",
      "text/plain": [
       "<Figure size 432x288 with 1 Axes>"
      ]
     },
     "metadata": {
      "needs_background": "light"
     },
     "output_type": "display_data"
    }
   ],
   "source": [
    "fig2=plt.figure()\n",
    "plt.plot(history.history['acc'],'r',linewidth=3.0)\n",
    "plt.plot(history.history['val_acc'],'b',linewidth=3.0)\n",
    "plt.legend(['Training Accuracy', 'Validation Accuracy'],fontsize=18)\n",
    "plt.xlabel('Epochs ',fontsize=16)\n",
    "plt.ylabel('Accuracy',fontsize=16)\n",
    "plt.title('Accuracy Curves : CNN',fontsize=16)\n",
    "fig2.savefig('accuracy_cnn.png')\n",
    "plt.show()"
   ]
  },
  {
   "cell_type": "code",
   "execution_count": null,
   "metadata": {},
   "outputs": [],
   "source": [
    "#preds = ourModel.evaluate(x =X_test, y =Y_test)\n",
    "### END CODE HERE ###\n",
    "#print()\n",
    "#print (\"Loss = \" + str(preds[0]))\n",
    "#print (\"Test Accuracy = \" + str(preds[1]))"
   ]
  }
 ],
 "metadata": {
  "kernelspec": {
   "display_name": "Python 3",
   "language": "python",
   "name": "python3"
  },
  "language_info": {
   "codemirror_mode": {
    "name": "ipython",
    "version": 3
   },
   "file_extension": ".py",
   "mimetype": "text/x-python",
   "name": "python",
   "nbconvert_exporter": "python",
   "pygments_lexer": "ipython3",
   "version": "3.7.3"
  },
  "varInspector": {
   "cols": {
    "lenName": 16,
    "lenType": 16,
    "lenVar": 40
   },
   "kernels_config": {
    "python": {
     "delete_cmd_postfix": "",
     "delete_cmd_prefix": "del ",
     "library": "var_list.py",
     "varRefreshCmd": "print(var_dic_list())"
    },
    "r": {
     "delete_cmd_postfix": ") ",
     "delete_cmd_prefix": "rm(",
     "library": "var_list.r",
     "varRefreshCmd": "cat(var_dic_list()) "
    }
   },
   "types_to_exclude": [
    "module",
    "function",
    "builtin_function_or_method",
    "instance",
    "_Feature"
   ],
   "window_display": false
  }
 },
 "nbformat": 4,
 "nbformat_minor": 2
}
